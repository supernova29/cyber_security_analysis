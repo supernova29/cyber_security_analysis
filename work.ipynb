{
 "cells": [
  {
   "cell_type": "code",
   "execution_count": 32,
   "metadata": {},
   "outputs": [],
   "source": [
    "import pandas as pd\n",
    "import matplotlib.pyplot as plt\n",
    "import numpy as np\n",
    "import seaborn as sns\n"
   ]
  },
  {
   "cell_type": "code",
   "execution_count": 33,
   "metadata": {},
   "outputs": [
    {
     "data": {
      "text/plain": [
       "(240000, 24)"
      ]
     },
     "execution_count": 33,
     "metadata": {},
     "output_type": "execute_result"
    }
   ],
   "source": [
    "df = pd.read_csv('train.csv')\n",
    "\n",
    "test_df = pd.read_csv('test.csv')\n",
    "test_df.shape"
   ]
  },
  {
   "cell_type": "code",
   "execution_count": 34,
   "metadata": {},
   "outputs": [
    {
     "data": {
      "text/html": [
       "<div>\n",
       "<style scoped>\n",
       "    .dataframe tbody tr th:only-of-type {\n",
       "        vertical-align: middle;\n",
       "    }\n",
       "\n",
       "    .dataframe tbody tr th {\n",
       "        vertical-align: top;\n",
       "    }\n",
       "\n",
       "    .dataframe thead th {\n",
       "        text-align: right;\n",
       "    }\n",
       "</style>\n",
       "<table border=\"1\" class=\"dataframe\">\n",
       "  <thead>\n",
       "    <tr style=\"text-align: right;\">\n",
       "      <th></th>\n",
       "      <th>src_ipv4</th>\n",
       "      <th>src_ipv6</th>\n",
       "      <th>src_mac</th>\n",
       "      <th>src_port</th>\n",
       "      <th>dest_port</th>\n",
       "      <th>duration</th>\n",
       "      <th>os</th>\n",
       "      <th>packet_size</th>\n",
       "      <th>tcp</th>\n",
       "      <th>udp</th>\n",
       "      <th>...</th>\n",
       "      <th>ftp</th>\n",
       "      <th>icmp</th>\n",
       "      <th>syn</th>\n",
       "      <th>ack</th>\n",
       "      <th>fin</th>\n",
       "      <th>psh</th>\n",
       "      <th>urg</th>\n",
       "      <th>ece</th>\n",
       "      <th>cwr</th>\n",
       "      <th>attack_type</th>\n",
       "    </tr>\n",
       "  </thead>\n",
       "  <tbody>\n",
       "    <tr>\n",
       "      <th>0</th>\n",
       "      <td>171.153.21.53</td>\n",
       "      <td>28f9:dadc:4971:c47e:5ab6:b29a:d7e9:be69</td>\n",
       "      <td>e5:d4:16:af:cd:3d</td>\n",
       "      <td>38994</td>\n",
       "      <td>43061</td>\n",
       "      <td>197885</td>\n",
       "      <td>windows</td>\n",
       "      <td>340182</td>\n",
       "      <td>t</td>\n",
       "      <td>t</td>\n",
       "      <td>...</td>\n",
       "      <td>f</td>\n",
       "      <td>t</td>\n",
       "      <td>t</td>\n",
       "      <td>t</td>\n",
       "      <td>t</td>\n",
       "      <td>f</td>\n",
       "      <td>t</td>\n",
       "      <td>t</td>\n",
       "      <td>f</td>\n",
       "      <td>Mirai</td>\n",
       "    </tr>\n",
       "    <tr>\n",
       "      <th>1</th>\n",
       "      <td>66.7.16.37</td>\n",
       "      <td>5191:bb30:19:3d6c:1bfb:6ce0:91c6:34a4</td>\n",
       "      <td>88:83:e8:c7:72:6f</td>\n",
       "      <td>26001</td>\n",
       "      <td>60218</td>\n",
       "      <td>1003599</td>\n",
       "      <td>windows</td>\n",
       "      <td>357240</td>\n",
       "      <td>f</td>\n",
       "      <td>t</td>\n",
       "      <td>...</td>\n",
       "      <td>t</td>\n",
       "      <td>f</td>\n",
       "      <td>f</td>\n",
       "      <td>f</td>\n",
       "      <td>f</td>\n",
       "      <td>f</td>\n",
       "      <td>f</td>\n",
       "      <td>t</td>\n",
       "      <td>f</td>\n",
       "      <td>Recon</td>\n",
       "    </tr>\n",
       "    <tr>\n",
       "      <th>2</th>\n",
       "      <td>172.153.167.203</td>\n",
       "      <td>2663:e398:17eb:d8cf:de62:1bf3:3c65:8e9a</td>\n",
       "      <td>4f:38:5b:85:8f:6f</td>\n",
       "      <td>14730</td>\n",
       "      <td>15793</td>\n",
       "      <td>496310</td>\n",
       "      <td>windows</td>\n",
       "      <td>631837</td>\n",
       "      <td>f</td>\n",
       "      <td>f</td>\n",
       "      <td>...</td>\n",
       "      <td>f</td>\n",
       "      <td>t</td>\n",
       "      <td>t</td>\n",
       "      <td>f</td>\n",
       "      <td>t</td>\n",
       "      <td>f</td>\n",
       "      <td>t</td>\n",
       "      <td>t</td>\n",
       "      <td>f</td>\n",
       "      <td>Mirai</td>\n",
       "    </tr>\n",
       "    <tr>\n",
       "      <th>3</th>\n",
       "      <td>76.170.201.34</td>\n",
       "      <td>a6f3:d510:8145:da93:c305:706:8aa7:35e0</td>\n",
       "      <td>a2:b4:03:92:e4:02</td>\n",
       "      <td>2417</td>\n",
       "      <td>5858</td>\n",
       "      <td>149950</td>\n",
       "      <td>macos</td>\n",
       "      <td>809215</td>\n",
       "      <td>t</td>\n",
       "      <td>t</td>\n",
       "      <td>...</td>\n",
       "      <td>t</td>\n",
       "      <td>f</td>\n",
       "      <td>t</td>\n",
       "      <td>f</td>\n",
       "      <td>t</td>\n",
       "      <td>f</td>\n",
       "      <td>t</td>\n",
       "      <td>f</td>\n",
       "      <td>f</td>\n",
       "      <td>Phishing</td>\n",
       "    </tr>\n",
       "    <tr>\n",
       "      <th>4</th>\n",
       "      <td>160.33.148.177</td>\n",
       "      <td>f310:1792:cd5a:8d7d:82db:9b51:1e92:3de4</td>\n",
       "      <td>93:63:c1:f6:2d:28</td>\n",
       "      <td>42082</td>\n",
       "      <td>41166</td>\n",
       "      <td>708751</td>\n",
       "      <td>windows</td>\n",
       "      <td>133730</td>\n",
       "      <td>t</td>\n",
       "      <td>t</td>\n",
       "      <td>...</td>\n",
       "      <td>t</td>\n",
       "      <td>f</td>\n",
       "      <td>f</td>\n",
       "      <td>t</td>\n",
       "      <td>t</td>\n",
       "      <td>t</td>\n",
       "      <td>t</td>\n",
       "      <td>f</td>\n",
       "      <td>f</td>\n",
       "      <td>Mirai</td>\n",
       "    </tr>\n",
       "  </tbody>\n",
       "</table>\n",
       "<p>5 rows × 25 columns</p>\n",
       "</div>"
      ],
      "text/plain": [
       "          src_ipv4                                 src_ipv6  \\\n",
       "0    171.153.21.53  28f9:dadc:4971:c47e:5ab6:b29a:d7e9:be69   \n",
       "1       66.7.16.37    5191:bb30:19:3d6c:1bfb:6ce0:91c6:34a4   \n",
       "2  172.153.167.203  2663:e398:17eb:d8cf:de62:1bf3:3c65:8e9a   \n",
       "3    76.170.201.34   a6f3:d510:8145:da93:c305:706:8aa7:35e0   \n",
       "4   160.33.148.177  f310:1792:cd5a:8d7d:82db:9b51:1e92:3de4   \n",
       "\n",
       "             src_mac  src_port  dest_port  duration       os  packet_size tcp  \\\n",
       "0  e5:d4:16:af:cd:3d     38994      43061    197885  windows       340182   t   \n",
       "1  88:83:e8:c7:72:6f     26001      60218   1003599  windows       357240   f   \n",
       "2  4f:38:5b:85:8f:6f     14730      15793    496310  windows       631837   f   \n",
       "3  a2:b4:03:92:e4:02      2417       5858    149950    macos       809215   t   \n",
       "4  93:63:c1:f6:2d:28     42082      41166    708751  windows       133730   t   \n",
       "\n",
       "  udp  ... ftp icmp syn ack fin psh urg ece cwr attack_type  \n",
       "0   t  ...   f    t   t   t   t   f   t   t   f       Mirai  \n",
       "1   t  ...   t    f   f   f   f   f   f   t   f       Recon  \n",
       "2   f  ...   f    t   t   f   t   f   t   t   f       Mirai  \n",
       "3   t  ...   t    f   t   f   t   f   t   f   f    Phishing  \n",
       "4   t  ...   t    f   f   t   t   t   t   f   f       Mirai  \n",
       "\n",
       "[5 rows x 25 columns]"
      ]
     },
     "execution_count": 34,
     "metadata": {},
     "output_type": "execute_result"
    }
   ],
   "source": [
    "df.head(5)"
   ]
  },
  {
   "cell_type": "markdown",
   "metadata": {},
   "source": [
    "numerical: packet_size , src_port , dest_port , duration\n",
    "categorical: os , tcp udp , ftp, icmp , smtp , ack , fin , psh , ece , cwr , urg , attack type \n",
    "misc : src_ipv6 , src_mac"
   ]
  },
  {
   "cell_type": "code",
   "execution_count": 35,
   "metadata": {},
   "outputs": [
    {
     "data": {
      "text/plain": [
       "count    5.600000e+05\n",
       "mean     5.242902e+05\n",
       "std      3.023935e+05\n",
       "min      4.000000e+00\n",
       "25%      2.627740e+05\n",
       "50%      5.239770e+05\n",
       "75%      7.861260e+05\n",
       "max      1.048575e+06\n",
       "Name: duration, dtype: float64"
      ]
     },
     "execution_count": 35,
     "metadata": {},
     "output_type": "execute_result"
    }
   ],
   "source": [
    "df['duration'].describe()"
   ]
  },
  {
   "cell_type": "code",
   "execution_count": 36,
   "metadata": {},
   "outputs": [
    {
     "data": {
      "text/plain": [
       "4"
      ]
     },
     "execution_count": 36,
     "metadata": {},
     "output_type": "execute_result"
    }
   ],
   "source": [
    "df['duration'].min()"
   ]
  },
  {
   "cell_type": "markdown",
   "metadata": {},
   "source": [
    "REMOVING THOSE DATA WHICH CONTAINS MALWARE DETECTED LESS THAN AN HOUR"
   ]
  },
  {
   "cell_type": "code",
   "execution_count": 37,
   "metadata": {},
   "outputs": [
    {
     "name": "stdout",
     "output_type": "stream",
     "text": [
      "               src_ipv4                                 src_ipv6  \\\n",
      "0         171.153.21.53  28f9:dadc:4971:c47e:5ab6:b29a:d7e9:be69   \n",
      "1            66.7.16.37    5191:bb30:19:3d6c:1bfb:6ce0:91c6:34a4   \n",
      "2       172.153.167.203  2663:e398:17eb:d8cf:de62:1bf3:3c65:8e9a   \n",
      "3         76.170.201.34   a6f3:d510:8145:da93:c305:706:8aa7:35e0   \n",
      "4        160.33.148.177  f310:1792:cd5a:8d7d:82db:9b51:1e92:3de4   \n",
      "...                 ...                                      ...   \n",
      "559995    97.127.49.158  8584:b1f2:15a9:d1b9:ee71:f5a6:a5bd:968f   \n",
      "559996    88.105.12.196  2527:7142:55c4:9d94:7fd8:7d44:4866:e6fd   \n",
      "559997   59.100.241.155  dde9:89bc:baeb:7a2b:73b8:c7db:490a:770c   \n",
      "559998   139.13.233.155    a86e:e4e9:9728:df07:dbd9:f20:d0d:3636   \n",
      "559999    100.35.33.181  f140:8da5:c452:719a:8528:e6a6:e286:dc82   \n",
      "\n",
      "                  src_mac  src_port  dest_port  duration       os  \\\n",
      "0       e5:d4:16:af:cd:3d     38994      43061    197885  windows   \n",
      "1       88:83:e8:c7:72:6f     26001      60218   1003599  windows   \n",
      "2       4f:38:5b:85:8f:6f     14730      15793    496310  windows   \n",
      "3       a2:b4:03:92:e4:02      2417       5858    149950    macos   \n",
      "4       93:63:c1:f6:2d:28     42082      41166    708751  windows   \n",
      "...                   ...       ...        ...       ...      ...   \n",
      "559995  d6:88:8f:91:59:b4     37948      40338    477153  windows   \n",
      "559996  13:31:08:d3:4d:dd     49405        900    274361    macos   \n",
      "559997  88:bd:ef:71:d4:a7      8560      38992    996651  windows   \n",
      "559998  b3:9c:b0:f4:96:86      8425      52396    282677  windows   \n",
      "559999  51:23:1b:b5:d9:e5     61028      53899    260723  windows   \n",
      "\n",
      "        packet_size tcp udp  ... ftp icmp syn ack fin psh urg ece cwr  \\\n",
      "0            340182   t   t  ...   f    t   t   t   t   f   t   t   f   \n",
      "1            357240   f   t  ...   t    f   f   f   f   f   f   t   f   \n",
      "2            631837   f   f  ...   f    t   t   f   t   f   t   t   f   \n",
      "3            809215   t   t  ...   t    f   t   f   t   f   t   f   f   \n",
      "4            133730   t   t  ...   t    f   f   t   t   t   t   f   f   \n",
      "...             ...  ..  ..  ...  ..  ...  ..  ..  ..  ..  ..  ..  ..   \n",
      "559995       903524   f   t  ...   t    t   f   t   f   t   t   t   f   \n",
      "559996       899509   t   t  ...   f    f   t   f   f   t   t   f   t   \n",
      "559997       397424   t   f  ...   t    t   f   t   f   t   f   t   t   \n",
      "559998       483216   f   f  ...   t    t   t   f   t   f   t   t   t   \n",
      "559999       925083   t   t  ...   f    f   f   t   t   f   f   t   f   \n",
      "\n",
      "       attack_type  \n",
      "0            Mirai  \n",
      "1            Recon  \n",
      "2            Mirai  \n",
      "3         Phishing  \n",
      "4            Mirai  \n",
      "...            ...  \n",
      "559995       Mirai  \n",
      "559996    Phishing  \n",
      "559997       Recon  \n",
      "559998       Recon  \n",
      "559999       Mirai  \n",
      "\n",
      "[558078 rows x 25 columns]\n"
     ]
    }
   ],
   "source": [
    "df = df[df['duration'] >= 3600]\n",
    "print(df)"
   ]
  },
  {
   "cell_type": "markdown",
   "metadata": {},
   "source": [
    "REMOVING DATA OF COLUMNS OF SRC_IPV6 , SRC_IPV4 , SRC_MAC"
   ]
  },
  {
   "cell_type": "code",
   "execution_count": 38,
   "metadata": {},
   "outputs": [
    {
     "name": "stdout",
     "output_type": "stream",
     "text": [
      "                                       src_ipv6  src_port  dest_port  \\\n",
      "0       28f9:dadc:4971:c47e:5ab6:b29a:d7e9:be69     38994      43061   \n",
      "1         5191:bb30:19:3d6c:1bfb:6ce0:91c6:34a4     26001      60218   \n",
      "2       2663:e398:17eb:d8cf:de62:1bf3:3c65:8e9a     14730      15793   \n",
      "3        a6f3:d510:8145:da93:c305:706:8aa7:35e0      2417       5858   \n",
      "4       f310:1792:cd5a:8d7d:82db:9b51:1e92:3de4     42082      41166   \n",
      "...                                         ...       ...        ...   \n",
      "559995  8584:b1f2:15a9:d1b9:ee71:f5a6:a5bd:968f     37948      40338   \n",
      "559996  2527:7142:55c4:9d94:7fd8:7d44:4866:e6fd     49405        900   \n",
      "559997  dde9:89bc:baeb:7a2b:73b8:c7db:490a:770c      8560      38992   \n",
      "559998    a86e:e4e9:9728:df07:dbd9:f20:d0d:3636      8425      52396   \n",
      "559999  f140:8da5:c452:719a:8528:e6a6:e286:dc82     61028      53899   \n",
      "\n",
      "        duration  packet_size tcp udp http https ssh  ... ftp icmp syn ack  \\\n",
      "0         197885       340182   t   t    f     t   f  ...   f    t   t   t   \n",
      "1        1003599       357240   f   t    t     f   f  ...   t    f   f   f   \n",
      "2         496310       631837   f   f    t     t   t  ...   f    t   t   f   \n",
      "3         149950       809215   t   t    t     f   t  ...   t    f   t   f   \n",
      "4         708751       133730   t   t    f     t   f  ...   t    f   f   t   \n",
      "...          ...          ...  ..  ..  ...   ...  ..  ...  ..  ...  ..  ..   \n",
      "559995    477153       903524   f   t    t     f   f  ...   t    t   f   t   \n",
      "559996    274361       899509   t   t    f     t   f  ...   f    f   t   f   \n",
      "559997    996651       397424   t   f    t     t   f  ...   t    t   f   t   \n",
      "559998    282677       483216   f   f    f     t   t  ...   t    t   t   f   \n",
      "559999    260723       925083   t   t    f     f   f  ...   f    f   f   t   \n",
      "\n",
      "       fin psh urg ece cwr attack_type  \n",
      "0        t   f   t   t   f       Mirai  \n",
      "1        f   f   f   t   f       Recon  \n",
      "2        t   f   t   t   f       Mirai  \n",
      "3        t   f   t   f   f    Phishing  \n",
      "4        t   t   t   f   f       Mirai  \n",
      "...     ..  ..  ..  ..  ..         ...  \n",
      "559995   f   t   t   t   f       Mirai  \n",
      "559996   f   t   t   f   t    Phishing  \n",
      "559997   f   t   f   t   t       Recon  \n",
      "559998   t   f   t   t   t       Recon  \n",
      "559999   t   f   f   t   f       Mirai  \n",
      "\n",
      "[558078 rows x 22 columns]\n"
     ]
    }
   ],
   "source": [
    "df = df.drop('os' , axis=1)\n",
    "df = df.drop('src_ipv4' , axis=1)\n",
    "df = df.drop('src_mac' , axis=1)\n",
    "\n",
    "print(df)\n"
   ]
  },
  {
   "cell_type": "code",
   "execution_count": 39,
   "metadata": {},
   "outputs": [],
   "source": [
    "true_smtp = (df['smtp'] == 't').sum()\n",
    "true_tcp = (df['tcp'] == 't').sum()\n",
    "true_udp = (df['udp'] == 't').sum()\n",
    "true_http = (df['http'] == 't').sum()\n",
    "true_https = (df['https'] == 't').sum()\n",
    "true_ssh = (df['ssh'] == 't').sum()\n",
    "true_psh = (df['psh'] == 't').sum()\n",
    "true_pop3 = (df['pop3'] == 't').sum()\n",
    "true_fin = (df['fin'] == 't').sum()\n",
    "true_ack = (df['ack'] == 't').sum()\n",
    "true_urg = (df['urg'] == 't').sum()\n",
    "true_ece = (df['ece'] == 't').sum()\n",
    "true_cwr = (df['cwr'] == 't').sum()\n",
    "true_ftp = (df['ftp'] == 't').sum()\n",
    "true_icmp = (df['icmp'] == 't').sum()\n",
    "true_syn = (df['syn'] == 't').sum()\n",
    "\n"
   ]
  },
  {
   "cell_type": "markdown",
   "metadata": {},
   "source": [
    "tcp: message delivery;\n",
    "\n",
    "udp: playing game/video;\n",
    "\n",
    "http: webpage;\n",
    "\n",
    "ssh: command to hardware;\n",
    "\n",
    "smtp: mail transfer;\n",
    "\n",
    "pop3: email download;\n",
    "\n",
    "ftp: file tranfer;\n",
    "\n",
    "icmp: internet server;\n",
    "\n",
    "syn : blockchain data;\n",
    "\n",
    "ack: data receiver;\n",
    "\n",
    "fin: factory interface;\n",
    "\n",
    "psh: se4nd receive data;\n",
    "\n",
    "urg: urgent data transfer;\n",
    "\n",
    "ece: network relayed;\n",
    "\n",
    "cwr: publisher work;"
   ]
  },
  {
   "cell_type": "code",
   "execution_count": 40,
   "metadata": {},
   "outputs": [],
   "source": [
    "malware_cause = [true_ack , true_cwr , true_ece , true_fin , true_ftp , true_http , true_udp , true_https , true_icmp , true_pop3 , true_psh , true_tcp , true_smtp , true_urg , true_ssh , true_syn ]\n",
    "attack_cause = [ 'ack' , 'cwr' , 'ece' , 'fin' , 'ftp' , 'http' , 'udp' , 'https' , 'icmp' , 'pop3' , 'psh' , 'tcp' , 'smtp' , 'urg' , 'ssh' , 'syn']"
   ]
  },
  {
   "cell_type": "code",
   "execution_count": 41,
   "metadata": {},
   "outputs": [
    {
     "data": {
      "image/png": "[encoded data removed]",
      "text/plain": [
       "<Figure size 640x480 with 1 Axes>"
      ]
     },
     "metadata": {},
     "output_type": "display_data"
    }
   ],
   "source": [
    "# Create a line plot\n",
    "plt.plot(malware_cause, marker='o')\n",
    "\n",
    "# Add custom labels to each point\n",
    "for i, label in enumerate(attack_cause):\n",
    "    plt.text(i, malware_cause[i] + 0.1, label, ha='center', va='bottom')\n",
    "\n",
    "# Set y-axis limits (optional)\n",
    "#plt.ylim(0, max(values) + 1)\n",
    "\n",
    "# Add title and labels\n",
    "plt.title('Line plot between attack destination and total atttacks ')\n",
    "plt.xlabel('attack cause')\n",
    "plt.ylabel('values')\n",
    "\n",
    "# Show the plot\n",
    "plt.show()\n"
   ]
  },
  {
   "cell_type": "code",
   "execution_count": 42,
   "metadata": {},
   "outputs": [
    {
     "data": {
      "image/png": "[encoded data removed]",
      "text/plain": [
       "<Figure size 640x480 with 1 Axes>"
      ]
     },
     "metadata": {},
     "output_type": "display_data"
    }
   ],
   "source": [
    "positions = np.arange(len(malware_cause)) * 2\n",
    "bars = plt.bar(positions, malware_cause , width= 0.6)\n",
    "\n",
    "# Add labels to each bar\n",
    "for bar in bars:\n",
    "    yval = bar.get_height()\n",
    "    plt.text(bar.get_x() + bar.get_width() / 2, yval + 0.1, yval, ha='center', va='bottom')\n",
    "\n",
    "# Set y-axis limits (optional)\n",
    "plt.ylim(min(malware_cause) - 100, max(malware_cause) + 100)\n",
    "\n",
    "#Set x-axis labels\n",
    "plt.xticks(positions, attack_cause , rotation = 60)\n",
    "# Add title and labels\n",
    "plt.title('Bar Plot of Values')\n",
    "plt.xlabel('attack causes')\n",
    "plt.ylabel('Value')\n",
    "\n",
    "# Show the plot\n",
    "plt.show()"
   ]
  },
  {
   "cell_type": "markdown",
   "metadata": {},
   "source": [
    "MAX ATTACKS WERE CAUSED DUE TO : \n",
    "\n",
    "1. ICMP : \n",
    "2. HTTPS : SHARING DATA BETWEEN INTERNET BROWSER AND WEBSITE\n",
    "3. SYN"
   ]
  },
  {
   "cell_type": "code",
   "execution_count": 43,
   "metadata": {},
   "outputs": [
    {
     "name": "stdout",
     "output_type": "stream",
     "text": [
      "['ack', 'cwr', 'ece', 'fin', 'ftp', 'http', 'udp', 'https', 'icmp', 'pop3', 'psh', 'tcp', 'smtp', 'urg', 'ssh', 'syn']\n",
      "        ack  cwr  ece  fin  ftp  http  udp  https  icmp  pop3  psh  tcp  smtp  \\\n",
      "0         0    1    0    1    0     1    1      0     0     1    1    1     0   \n",
      "1         0    0    0    0    1     1    0      1     0     1    0    0     1   \n",
      "2         0    0    1    0    0     0    1      1     0     1    0    1     1   \n",
      "3         0    1    1    0    0     1    0      1     0     1    0    1     0   \n",
      "4         0    0    1    0    0     0    1      1     0     1    0    0     1   \n",
      "...     ...  ...  ...  ...  ...   ...  ...    ...   ...   ...  ...  ...   ...   \n",
      "239995    1    1    0    0    1     1    0      0     0     1    1    0     1   \n",
      "239996    1    0    0    0    0     1    1      0     0     1    1    0     0   \n",
      "239997    1    0    1    0    0     1    0      1     1     0    0    0     0   \n",
      "239998    1    1    0    1    0     0    0      0     1     0    1    0     1   \n",
      "239999    1    1    0    1    0     1    0      0     0     1    1    0     0   \n",
      "\n",
      "        urg  ssh  syn  \n",
      "0         0    0    0  \n",
      "1         0    1    0  \n",
      "2         0    0    1  \n",
      "3         1    1    1  \n",
      "4         1    0    0  \n",
      "...     ...  ...  ...  \n",
      "239995    1    0    0  \n",
      "239996    1    0    0  \n",
      "239997    1    1    0  \n",
      "239998    1    0    1  \n",
      "239999    0    1    1  \n",
      "\n",
      "[240000 rows x 16 columns]\n"
     ]
    }
   ],
   "source": [
    "variables  = [ 'ack' , 'cwr' , 'ece' , 'fin' , 'ftp' , 'http' , 'udp' , 'https' , 'icmp' , 'pop3' , 'psh' , 'tcp' , 'smtp' , 'urg' , 'ssh' , 'syn']\n",
    "print(variables)\n",
    "X = df[variables]\n",
    "X_new = test_df[variables]\n",
    "X = X.replace({'t': 1, 'f': 0})\n",
    "X_new = X_new.replace({'t': 1, 'f': 0})\n",
    "print(X_new)\n"
   ]
  },
  {
   "cell_type": "code",
   "execution_count": 44,
   "metadata": {},
   "outputs": [
    {
     "data": {
      "text/plain": [
       "array(['Mirai', 'Recon', 'Phishing', 'DDoS', 'DoS'], dtype=object)"
      ]
     },
     "execution_count": 44,
     "metadata": {},
     "output_type": "execute_result"
    }
   ],
   "source": [
    "\n",
    "y = df['attack_type']\n",
    "y.unique()"
   ]
  },
  {
   "cell_type": "code",
   "execution_count": 45,
   "metadata": {},
   "outputs": [
    {
     "name": "stdout",
     "output_type": "stream",
     "text": [
      "['Mirai' 'Mirai' 'Phishing' ... 'Phishing' 'Mirai' 'Phishing']\n",
      "Predicted values: ['Mirai' 'Mirai' 'Phishing' ... 'Phishing' 'Mirai' 'Phishing']\n",
      "Accuracy: 0.22575697303961095\n"
     ]
    }
   ],
   "source": [
    "from sklearn.tree import DecisionTreeRegressor\n",
    "from sklearn.metrics import accuracy_score\n",
    "#specify the model. \n",
    "#For model reproducibility, set a numeric value for random_state when specifying the model\n",
    "DTR_model = DecisionTreeRegressor(random_state=1)\n",
    "\n",
    "# Fit the model\n",
    "#DTR_model.fit(X,y)\n",
    "#predictions = DTR_model.predict(X.head())\n",
    "\n",
    "from sklearn.preprocessing import LabelEncoder\n",
    "import numpy as np\n",
    "\n",
    "# Encode the string target values to numerical values\n",
    "label_encoder = LabelEncoder()\n",
    "y_train_encoded = label_encoder.fit_transform(y)\n",
    "\n",
    "# Initialize and train the model\n",
    "DTR_model.fit(X,y_train_encoded)\n",
    "# Predict numerical values\n",
    "predictions_encoded = DTR_model.predict(X)\n",
    "\n",
    "# Since predictions may not be exact integers, we need to round them to the nearest integer\n",
    "predictions_encoded = np.round(predictions_encoded).astype(int)\n",
    "\n",
    "# Decode numerical predictions back to string values\n",
    "predictions_str = label_encoder.inverse_transform(predictions_encoded)\n",
    "\n",
    "print(predictions_str)\n",
    "\n",
    "\n",
    "accuracy = accuracy_score(y, predictions_str)\n",
    "print(\"Predicted values:\", predictions_str)\n",
    "print(\"Accuracy:\", accuracy)"
   ]
  },
  {
   "cell_type": "code",
   "execution_count": 51,
   "metadata": {},
   "outputs": [
    {
     "name": "stdout",
     "output_type": "stream",
     "text": [
      "['Mirai' 'Mirai' 'Mirai' ... 'Mirai' 'Mirai' 'Mirai']\n"
     ]
    },
    {
     "data": {
      "text/plain": [
       "'accuracy = accuracy_score(y.head(), predictions_str)\\nprint(\"Predicted values:\", predictions_str)\\nprint(\"Accuracy:\", accuracy)'"
      ]
     },
     "execution_count": 51,
     "metadata": {},
     "output_type": "execute_result"
    }
   ],
   "source": [
    "from sklearn.linear_model import LinearRegression\n",
    "\n",
    "# Initialize and train the model\n",
    "LR_model = LinearRegression()\n",
    "\n",
    "# Encode the string target values to numerical values\n",
    "label_encoder = LabelEncoder()\n",
    "y_train_encoded = label_encoder.fit_transform(y)\n",
    "\n",
    "# Initialize and train the model\n",
    "LR_model.fit(X,y_train_encoded)\n",
    "# Predict numerical values\n",
    "predictions_encoded = LR_model.predict(X_new)\n",
    "\n",
    "# Since predictions may not be exact integers, we need to round them to the nearest integer\n",
    "predictions_encoded = np.round(predictions_encoded).astype(int)\n",
    "\n",
    "# Decode numerical predictions back to string values\n",
    "predictions_str = label_encoder.inverse_transform(predictions_encoded)\n",
    "\n",
    "print(predictions_str)\n",
    "\n",
    "'''accuracy = accuracy_score(y.head(), predictions_str)\n",
    "print(\"Predicted values:\", predictions_str)\n",
    "print(\"Accuracy:\", accuracy)'''"
   ]
  },
  {
   "cell_type": "code",
   "execution_count": 58,
   "metadata": {},
   "outputs": [
    {
     "name": "stdout",
     "output_type": "stream",
     "text": [
      "['DoS' 'Mirai' 'DoS' ... 'Mirai' 'Phishing' 'Mirai']\n",
      "DataFrame has been saved to 'output.xlsx'\n"
     ]
    }
   ],
   "source": [
    "from sklearn.ensemble import RandomForestRegressor\n",
    "\n",
    "# Initialize and train the model\n",
    "RFR_model = RandomForestRegressor(n_estimators=100)\n",
    "\n",
    "# Encode the string target values to numerical values\n",
    "label_encoder = LabelEncoder()\n",
    "y_train_encoded = label_encoder.fit_transform(y)\n",
    "\n",
    "# Initialize and train the model\n",
    "RFR_model.fit(X,y_train_encoded)\n",
    "# Predict numerical values\n",
    "predictions_encoded = RFR_model.predict(X_new)\n",
    "\n",
    "# Since predictions may not be exact integers, we need to round them to the nearest integer\n",
    "predictions_encoded = np.round(predictions_encoded).astype(int)\n",
    "\n",
    "# Decode numerical predictions back to string values\n",
    "predictions_str = label_encoder.inverse_transform(predictions_encoded)\n",
    "\n",
    "print(predictions_str)\n",
    "\n",
    "predictions_str.shape\n",
    "# Example data\n",
    "data = {\n",
    "    'src_ipv6' : test_df['src_ipv6'],\n",
    "    'attack type': predictions_str\n",
    "    #'City': ['New York', 'Paris', 'Berlin', 'London']\n",
    "}\n",
    "\n",
    "# Create a DataFrame\n",
    "dataframe= pd.DataFrame(data)\n",
    "\n",
    "# Save the DataFrame to an Excel file\n",
    "dataframe.to_excel('output.xlsx', index=False)\n",
    "\n",
    "print(\"DataFrame has been saved to 'output.xlsx'\")\n",
    "\n"
   ]
  },
  {
   "cell_type": "markdown",
   "metadata": {},
   "source": []
  },
  {
   "cell_type": "code",
   "execution_count": null,
   "metadata": {},
   "outputs": [
    {
     "name": "stdout",
     "output_type": "stream",
     "text": [
      "['Mirai' 'Mirai' 'Mirai' ... 'Mirai' 'Mirai' 'Mirai']\n",
      "Predicted values: ['Mirai' 'Mirai' 'Mirai' ... 'Mirai' 'Mirai' 'Mirai']\n",
      "Accuracy: 0.19945240629446062\n"
     ]
    }
   ],
   "source": [
    "from sklearn.ensemble import GradientBoostingRegressor\n",
    "\n",
    "# Initialize and train the model\n",
    "GBR_model = GradientBoostingRegressor(n_estimators=100, learning_rate=0.1)\n",
    "\n",
    "# Encode the string target values to numerical values\n",
    "label_encoder = LabelEncoder()\n",
    "y_train_encoded = label_encoder.fit_transform(y)\n",
    "\n",
    "# Initialize and train the model\n",
    "GBR_model.fit(X,y_train_encoded)\n",
    "# Predict numerical values\n",
    "predictions_encoded = GBR_model.predict(X_new)\n",
    "\n",
    "# Since predictions may not be exact integers, we need to round them to the nearest integer\n",
    "predictions_encoded = np.round(predictions_encoded).astype(int)\n",
    "\n",
    "# Decode numerical predictions back to string values\n",
    "predictions_str = label_encoder.inverse_transform(predictions_encoded)\n",
    "\n",
    "print(predictions_str)\n",
    "\n",
    "accuracy = accuracy_score(y, predictions_str)\n",
    "print(\"Predicted values:\", predictions_str)\n",
    "print(\"Accuracy:\", accuracy)\n"
   ]
  },
  {
   "cell_type": "code",
   "execution_count": null,
   "metadata": {},
   "outputs": [],
   "source": []
  },
  {
   "cell_type": "code",
   "execution_count": null,
   "metadata": {},
   "outputs": [],
   "source": []
  }
 ],
 "metadata": {
  "kernelspec": {
   "display_name": "Python 3",
   "language": "python",
   "name": "python3"
  },
  "language_info": {
   "codemirror_mode": {
    "name": "ipython",
    "version": 3
   },
   "file_extension": ".py",
   "mimetype": "text/x-python",
   "name": "python",
   "nbconvert_exporter": "python",
   "pygments_lexer": "ipython3",
   "version": "3.11.4"
  }
 },
 "nbformat": 4,
 "nbformat_minor": 2
}
